{
 "cells": [
  {
   "cell_type": "code",
   "execution_count": 3,
   "metadata": {},
   "outputs": [
    {
     "name": "stdout",
     "output_type": "stream",
     "text": [
      "Calculated cash flow is: 737.5\n",
      "Calculated ROI is: 12.83 %\n"
     ]
    }
   ],
   "source": [
    "class ROIcalc():\n",
    "\n",
    "    def __init__(self):\n",
    "        self.propertyvalue = 350000  \n",
    "        self.rentalincome = 1750\n",
    "        self.propertycost = 175000 \n",
    "        self.tax = 250\n",
    "        self.insurance = 150\n",
    "        self.vacancy = self.rentalincome*0.05\n",
    "        self.repairs = 100\n",
    "        self.propertymanagement = self.rentalincome*0.1\n",
    "        self.mortgage = 1060 \n",
    "        self.improvements = 8000 \n",
    "        self.downpayment = self.propertycost*0.2\n",
    "        self.closingcosts = self.propertycost*0.03\n",
    "\n",
    "    \n",
    "    def income(self):\n",
    "      totalincome = self.rentalincome\n",
    "      return totalincome\n",
    "        \n",
    "    def expenses(self):\n",
    "        totalexpenses = self.tax + self.insurance + self.vacancy + self.repairs + self.propertymanagement\n",
    "        return  totalexpenses\n",
    "   \n",
    "    def investment(self):\n",
    "        totalinvestment  = self.downpayment + self.improvements + self.closingcosts\n",
    "        return totalinvestment \n",
    "   \n",
    "    def cashFlow(self):\n",
    "        cashflow= ROIcalc.income(self) - ROIcalc.expenses(self)\n",
    "        return cashflow\n",
    "\n",
    "    def ROI(self):\n",
    "        ROIpercent = ((ROIcalc.income(self)*12)/ROIcalc.investment(self))*100\n",
    "        return ROIpercent\n",
    "       \n",
    "    def output(self):\n",
    "        print(f\"Calculated cash flow is: {ROIcalc.cashFlow(self)}\")\n",
    "        print(f\"Calculated ROI is: {round(ROIcalc.ROI(self), 2)} %\")\n",
    "\n",
    "    def calcTotal(self):\n",
    "        self.cost = int(input(\"Purchase price of the home: \"))\n",
    "        self.rentalincome = int(input(\"Anticipated monthly income: \"))\n",
    "        self.mortgage = int(input(\"Current monthly mortage: \"))\n",
    "        self.improvements = int(input(\"Renovation costs(?): \"))\n",
    "\n",
    "        ROIcalc.output(self)\n",
    "\n",
    "\n",
    "run = ROIcalc()\n",
    "run.calcTotal()"
   ]
  }
 ],
 "metadata": {
  "interpreter": {
   "hash": "c40077e4a3077834302be80986b37e060e1056def0e79fce51963e1304fb0d3e"
  },
  "kernelspec": {
   "display_name": "Python 3.9.9 64-bit",
   "language": "python",
   "name": "python3"
  },
  "language_info": {
   "codemirror_mode": {
    "name": "ipython",
    "version": 3
   },
   "file_extension": ".py",
   "mimetype": "text/x-python",
   "name": "python",
   "nbconvert_exporter": "python",
   "pygments_lexer": "ipython3",
   "version": "3.9.9"
  },
  "orig_nbformat": 4
 },
 "nbformat": 4,
 "nbformat_minor": 2
}
